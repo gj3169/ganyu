{
 "cells": [
  {
   "cell_type": "code",
   "execution_count": 27,
   "metadata": {},
   "outputs": [],
   "source": [
    "import numpy as np\n",
    "import pandas as pd\n",
    "import matplotlib.pyplot as plt\n",
    "import math"
   ]
  },
  {
   "cell_type": "code",
   "execution_count": 28,
   "metadata": {},
   "outputs": [],
   "source": [
    "index = range(91)\n",
    "temp = [(0.006*pow((1-0.006),item-1)) for item in index]\n",
    "probability = temp[1:90]\n",
    "probability.append(1-math.fsum(temp[1:90]))\n",
    "number = list(index)[1:]"
   ]
  },
  {
   "cell_type": "code",
   "execution_count": 29,
   "metadata": {},
   "outputs": [
    {
     "data": {
      "text/plain": [
       "0.9999999999999999"
      ]
     },
     "execution_count": 29,
     "metadata": {},
     "output_type": "execute_result"
    }
   ],
   "source": [
    "math.fsum(probability[:90])"
   ]
  },
  {
   "cell_type": "code",
   "execution_count": 30,
   "metadata": {
    "scrolled": true
   },
   "outputs": [
    {
     "data": {
      "text/plain": [
       "[<matplotlib.lines.Line2D at 0x27f78bf0438>]"
      ]
     },
     "execution_count": 30,
     "metadata": {},
     "output_type": "execute_result"
    },
    {
     "data": {
      "image/png": "[encoded data removed]",
      "text/plain": [
       "<Figure size 432x288 with 1 Axes>"
      ]
     },
     "metadata": {
      "needs_background": "light"
     },
     "output_type": "display_data"
    }
   ],
   "source": [
    "fig, ax = plt.subplots()\n",
    "ax.plot(number[:90], probability[:90])"
   ]
  },
  {
   "cell_type": "code",
   "execution_count": 31,
   "metadata": {},
   "outputs": [],
   "source": [
    "exp_all = math.fsum([item*probability[item-1] for item in number])"
   ]
  },
  {
   "cell_type": "code",
   "execution_count": 32,
   "metadata": {},
   "outputs": [
    {
     "data": {
      "text/plain": [
       "69.69980377608013"
      ]
     },
     "execution_count": 32,
     "metadata": {},
     "output_type": "execute_result"
    }
   ],
   "source": [
    "exp_all"
   ]
  },
  {
   "cell_type": "code",
   "execution_count": 33,
   "metadata": {},
   "outputs": [
    {
     "data": {
      "text/plain": [
       "0.014347242686832127"
      ]
     },
     "execution_count": 33,
     "metadata": {},
     "output_type": "execute_result"
    }
   ],
   "source": [
    "1/exp_all"
   ]
  },
  {
   "cell_type": "code",
   "execution_count": 34,
   "metadata": {},
   "outputs": [
    {
     "data": {
      "text/plain": [
       "90"
      ]
     },
     "execution_count": 34,
     "metadata": {},
     "output_type": "execute_result"
    }
   ],
   "source": [
    "len(number)"
   ]
  },
  {
   "cell_type": "code",
   "execution_count": 35,
   "metadata": {},
   "outputs": [
    {
     "data": {
      "text/plain": [
       "0.4146869443224156"
      ]
     },
     "execution_count": 35,
     "metadata": {},
     "output_type": "execute_result"
    }
   ],
   "source": [
    "1-pow(0.994,89)"
   ]
  },
  {
   "cell_type": "code",
   "execution_count": 36,
   "metadata": {},
   "outputs": [],
   "source": [
    "a = 0.006*89"
   ]
  },
  {
   "cell_type": "code",
   "execution_count": 37,
   "metadata": {},
   "outputs": [],
   "source": [
    "b = 1-0.006*89"
   ]
  },
  {
   "cell_type": "code",
   "execution_count": 38,
   "metadata": {},
   "outputs": [],
   "source": [
    "probability2 = [0.006 for item in range(89)]"
   ]
  },
  {
   "cell_type": "code",
   "execution_count": 39,
   "metadata": {},
   "outputs": [
    {
     "data": {
      "text/plain": [
       "89"
      ]
     },
     "execution_count": 39,
     "metadata": {},
     "output_type": "execute_result"
    }
   ],
   "source": [
    "len(probability2)"
   ]
  },
  {
   "cell_type": "code",
   "execution_count": 40,
   "metadata": {},
   "outputs": [],
   "source": [
    "probability2.append(1-0.006*89)"
   ]
  },
  {
   "cell_type": "code",
   "execution_count": 41,
   "metadata": {
    "scrolled": true
   },
   "outputs": [
    {
     "data": {
      "text/plain": [
       "[0.006,\n",
       " 0.006,\n",
       " 0.006,\n",
       " 0.006,\n",
       " 0.006,\n",
       " 0.006,\n",
       " 0.006,\n",
       " 0.006,\n",
       " 0.006,\n",
       " 0.006,\n",
       " 0.006,\n",
       " 0.006,\n",
       " 0.006,\n",
       " 0.006,\n",
       " 0.006,\n",
       " 0.006,\n",
       " 0.006,\n",
       " 0.006,\n",
       " 0.006,\n",
       " 0.006,\n",
       " 0.006,\n",
       " 0.006,\n",
       " 0.006,\n",
       " 0.006,\n",
       " 0.006,\n",
       " 0.006,\n",
       " 0.006,\n",
       " 0.006,\n",
       " 0.006,\n",
       " 0.006,\n",
       " 0.006,\n",
       " 0.006,\n",
       " 0.006,\n",
       " 0.006,\n",
       " 0.006,\n",
       " 0.006,\n",
       " 0.006,\n",
       " 0.006,\n",
       " 0.006,\n",
       " 0.006,\n",
       " 0.006,\n",
       " 0.006,\n",
       " 0.006,\n",
       " 0.006,\n",
       " 0.006,\n",
       " 0.006,\n",
       " 0.006,\n",
       " 0.006,\n",
       " 0.006,\n",
       " 0.006,\n",
       " 0.006,\n",
       " 0.006,\n",
       " 0.006,\n",
       " 0.006,\n",
       " 0.006,\n",
       " 0.006,\n",
       " 0.006,\n",
       " 0.006,\n",
       " 0.006,\n",
       " 0.006,\n",
       " 0.006,\n",
       " 0.006,\n",
       " 0.006,\n",
       " 0.006,\n",
       " 0.006,\n",
       " 0.006,\n",
       " 0.006,\n",
       " 0.006,\n",
       " 0.006,\n",
       " 0.006,\n",
       " 0.006,\n",
       " 0.006,\n",
       " 0.006,\n",
       " 0.006,\n",
       " 0.006,\n",
       " 0.006,\n",
       " 0.006,\n",
       " 0.006,\n",
       " 0.006,\n",
       " 0.006,\n",
       " 0.006,\n",
       " 0.006,\n",
       " 0.006,\n",
       " 0.006,\n",
       " 0.006,\n",
       " 0.006,\n",
       " 0.006,\n",
       " 0.006,\n",
       " 0.006,\n",
       " 0.46599999999999997]"
      ]
     },
     "execution_count": 41,
     "metadata": {},
     "output_type": "execute_result"
    }
   ],
   "source": [
    "probability2\n"
   ]
  },
  {
   "cell_type": "code",
   "execution_count": 42,
   "metadata": {},
   "outputs": [],
   "source": [
    "exp2 = math.fsum([item*probability2[item-1] for item in number])"
   ]
  },
  {
   "cell_type": "code",
   "execution_count": 43,
   "metadata": {},
   "outputs": [
    {
     "data": {
      "text/plain": [
       "1.0"
      ]
     },
     "execution_count": 43,
     "metadata": {},
     "output_type": "execute_result"
    }
   ],
   "source": [
    "math.fsum(probability2)"
   ]
  },
  {
   "cell_type": "code",
   "execution_count": 44,
   "metadata": {
    "scrolled": true
   },
   "outputs": [
    {
     "data": {
      "text/plain": [
       "[1,\n",
       " 2,\n",
       " 3,\n",
       " 4,\n",
       " 5,\n",
       " 6,\n",
       " 7,\n",
       " 8,\n",
       " 9,\n",
       " 10,\n",
       " 11,\n",
       " 12,\n",
       " 13,\n",
       " 14,\n",
       " 15,\n",
       " 16,\n",
       " 17,\n",
       " 18,\n",
       " 19,\n",
       " 20,\n",
       " 21,\n",
       " 22,\n",
       " 23,\n",
       " 24,\n",
       " 25,\n",
       " 26,\n",
       " 27,\n",
       " 28,\n",
       " 29,\n",
       " 30,\n",
       " 31,\n",
       " 32,\n",
       " 33,\n",
       " 34,\n",
       " 35,\n",
       " 36,\n",
       " 37,\n",
       " 38,\n",
       " 39,\n",
       " 40,\n",
       " 41,\n",
       " 42,\n",
       " 43,\n",
       " 44,\n",
       " 45,\n",
       " 46,\n",
       " 47,\n",
       " 48,\n",
       " 49,\n",
       " 50,\n",
       " 51,\n",
       " 52,\n",
       " 53,\n",
       " 54,\n",
       " 55,\n",
       " 56,\n",
       " 57,\n",
       " 58,\n",
       " 59,\n",
       " 60,\n",
       " 61,\n",
       " 62,\n",
       " 63,\n",
       " 64,\n",
       " 65,\n",
       " 66,\n",
       " 67,\n",
       " 68,\n",
       " 69,\n",
       " 70,\n",
       " 71,\n",
       " 72,\n",
       " 73,\n",
       " 74,\n",
       " 75,\n",
       " 76,\n",
       " 77,\n",
       " 78,\n",
       " 79,\n",
       " 80,\n",
       " 81,\n",
       " 82,\n",
       " 83,\n",
       " 84,\n",
       " 85,\n",
       " 86,\n",
       " 87,\n",
       " 88,\n",
       " 89,\n",
       " 90]"
      ]
     },
     "execution_count": 44,
     "metadata": {},
     "output_type": "execute_result"
    }
   ],
   "source": [
    "number"
   ]
  },
  {
   "cell_type": "code",
   "execution_count": 45,
   "metadata": {},
   "outputs": [],
   "source": [
    "pn = [pow((1-0.006), item-1)*0.006 for item in number]"
   ]
  },
  {
   "cell_type": "code",
   "execution_count": 46,
   "metadata": {
    "scrolled": true
   },
   "outputs": [
    {
     "data": {
      "text/plain": [
       "[0.006,\n",
       " 0.005964,\n",
       " 0.005928216,\n",
       " 0.005892646704,\n",
       " 0.005857290823776,\n",
       " 0.005822147078833344,\n",
       " 0.005787214196360344,\n",
       " 0.005752490911182182,\n",
       " 0.005717975965715089,\n",
       " 0.005683668109920798,\n",
       " 0.005649566101261274,\n",
       " 0.005615668704653705,\n",
       " 0.005581974692425783,\n",
       " 0.005548482844271228,\n",
       " 0.005515191947205601,\n",
       " 0.005482100795522368,\n",
       " 0.005449208190749233,\n",
       " 0.005416512941604738,\n",
       " 0.00538401386395511,\n",
       " 0.0053517097807713795,\n",
       " 0.00531959952208675,\n",
       " 0.00528768192495423,\n",
       " 0.005255955833404505,\n",
       " 0.005224420098404077,\n",
       " 0.005193073577813653,\n",
       " 0.005161915136346771,\n",
       " 0.00513094364552869,\n",
       " 0.005100157983655518,\n",
       " 0.0050695570357535856,\n",
       " 0.005039139693539064,\n",
       " 0.005008904855377829,\n",
       " 0.004978851426245562,\n",
       " 0.004948978317688089,\n",
       " 0.00491928444778196,\n",
       " 0.0048897687410952686,\n",
       " 0.0048604301286486965,\n",
       " 0.004831267547876804,\n",
       " 0.004802279942589543,\n",
       " 0.004773466262934007,\n",
       " 0.004744825465356402,\n",
       " 0.004716356512564264,\n",
       " 0.004688058373488878,\n",
       " 0.004659930023247945,\n",
       " 0.004631970443108457,\n",
       " 0.0046041786204498066,\n",
       " 0.004576553548727108,\n",
       " 0.004549094227434745,\n",
       " 0.0045217996620701365,\n",
       " 0.0044946688640977155,\n",
       " 0.00446770085091313,\n",
       " 0.00444089464580765,\n",
       " 0.004414249277932805,\n",
       " 0.004387763782265208,\n",
       " 0.004361437199571616,\n",
       " 0.004335268576374187,\n",
       " 0.0043092569649159414,\n",
       " 0.004283401423126446,\n",
       " 0.004257701014587687,\n",
       " 0.004232154808500161,\n",
       " 0.00420676187964916,\n",
       " 0.004181521308371266,\n",
       " 0.004156432180521037,\n",
       " 0.004131493587437912,\n",
       " 0.004106704625913284,\n",
       " 0.0040820643981578034,\n",
       " 0.004057572011768857,\n",
       " 0.004033226579698244,\n",
       " 0.004009027220220055,\n",
       " 0.003984973056898734,\n",
       " 0.003961063218557342,\n",
       " 0.003937296839245997,\n",
       " 0.003913673058210522,\n",
       " 0.0038901910198612588,\n",
       " 0.0038668498737420907,\n",
       " 0.0038436487744996383,\n",
       " 0.0038205868818526408,\n",
       " 0.003797663360561525,\n",
       " 0.003774877380398156,\n",
       " 0.0037522281161157666,\n",
       " 0.0037297147474190722,\n",
       " 0.0037073364589345573,\n",
       " 0.0036850924401809503,\n",
       " 0.0036629818855398646,\n",
       " 0.0036410039942266254,\n",
       " 0.003619157970261265,\n",
       " 0.0035974430224396978,\n",
       " 0.0035758583643050595,\n",
       " 0.003554403214119229,\n",
       " 0.003533076794834514,\n",
       " 0.0035118783340655066]"
      ]
     },
     "execution_count": 46,
     "metadata": {},
     "output_type": "execute_result"
    }
   ],
   "source": [
    "pn"
   ]
  },
  {
   "cell_type": "code",
   "execution_count": 47,
   "metadata": {},
   "outputs": [],
   "source": [
    "pn[-1] = pow(1-0.006,89)"
   ]
  },
  {
   "cell_type": "code",
   "execution_count": 48,
   "metadata": {
    "scrolled": true
   },
   "outputs": [
    {
     "data": {
      "text/plain": [
       "[0.006,\n",
       " 0.005964,\n",
       " 0.005928216,\n",
       " 0.005892646704,\n",
       " 0.005857290823776,\n",
       " 0.005822147078833344,\n",
       " 0.005787214196360344,\n",
       " 0.005752490911182182,\n",
       " 0.005717975965715089,\n",
       " 0.005683668109920798,\n",
       " 0.005649566101261274,\n",
       " 0.005615668704653705,\n",
       " 0.005581974692425783,\n",
       " 0.005548482844271228,\n",
       " 0.005515191947205601,\n",
       " 0.005482100795522368,\n",
       " 0.005449208190749233,\n",
       " 0.005416512941604738,\n",
       " 0.00538401386395511,\n",
       " 0.0053517097807713795,\n",
       " 0.00531959952208675,\n",
       " 0.00528768192495423,\n",
       " 0.005255955833404505,\n",
       " 0.005224420098404077,\n",
       " 0.005193073577813653,\n",
       " 0.005161915136346771,\n",
       " 0.00513094364552869,\n",
       " 0.005100157983655518,\n",
       " 0.0050695570357535856,\n",
       " 0.005039139693539064,\n",
       " 0.005008904855377829,\n",
       " 0.004978851426245562,\n",
       " 0.004948978317688089,\n",
       " 0.00491928444778196,\n",
       " 0.0048897687410952686,\n",
       " 0.0048604301286486965,\n",
       " 0.004831267547876804,\n",
       " 0.004802279942589543,\n",
       " 0.004773466262934007,\n",
       " 0.004744825465356402,\n",
       " 0.004716356512564264,\n",
       " 0.004688058373488878,\n",
       " 0.004659930023247945,\n",
       " 0.004631970443108457,\n",
       " 0.0046041786204498066,\n",
       " 0.004576553548727108,\n",
       " 0.004549094227434745,\n",
       " 0.0045217996620701365,\n",
       " 0.0044946688640977155,\n",
       " 0.00446770085091313,\n",
       " 0.00444089464580765,\n",
       " 0.004414249277932805,\n",
       " 0.004387763782265208,\n",
       " 0.004361437199571616,\n",
       " 0.004335268576374187,\n",
       " 0.0043092569649159414,\n",
       " 0.004283401423126446,\n",
       " 0.004257701014587687,\n",
       " 0.004232154808500161,\n",
       " 0.00420676187964916,\n",
       " 0.004181521308371266,\n",
       " 0.004156432180521037,\n",
       " 0.004131493587437912,\n",
       " 0.004106704625913284,\n",
       " 0.0040820643981578034,\n",
       " 0.004057572011768857,\n",
       " 0.004033226579698244,\n",
       " 0.004009027220220055,\n",
       " 0.003984973056898734,\n",
       " 0.003961063218557342,\n",
       " 0.003937296839245997,\n",
       " 0.003913673058210522,\n",
       " 0.0038901910198612588,\n",
       " 0.0038668498737420907,\n",
       " 0.0038436487744996383,\n",
       " 0.0038205868818526408,\n",
       " 0.003797663360561525,\n",
       " 0.003774877380398156,\n",
       " 0.0037522281161157666,\n",
       " 0.0037297147474190722,\n",
       " 0.0037073364589345573,\n",
       " 0.0036850924401809503,\n",
       " 0.0036629818855398646,\n",
       " 0.0036410039942266254,\n",
       " 0.003619157970261265,\n",
       " 0.0035974430224396978,\n",
       " 0.0035758583643050595,\n",
       " 0.003554403214119229,\n",
       " 0.003533076794834514,\n",
       " 0.5853130556775844]"
      ]
     },
     "execution_count": 48,
     "metadata": {},
     "output_type": "execute_result"
    }
   ],
   "source": [
    "pn"
   ]
  },
  {
   "cell_type": "code",
   "execution_count": 49,
   "metadata": {},
   "outputs": [
    {
     "data": {
      "image/png": "[encoded data removed]",
      "text/plain": [
       "<Figure size 864x432 with 2 Axes>"
      ]
     },
     "metadata": {
      "needs_background": "light"
     },
     "output_type": "display_data"
    }
   ],
   "source": [
    "plt.figure(figsize=(12,6))\n",
    "ax1 = plt.subplot(121)\n",
    "ax1.set_xlabel('n(n<=90)', fontsize=15)\n",
    "ax1.set_ylabel('p(n)', fontsize=15)\n",
    "plt.plot(number,pn)\n",
    "\n",
    "ax2=plt.subplot(122)\n",
    "plt.plot(number[:89],pn[:89], 'r')\n",
    "plt.suptitle('第n次抽卡首次抽到5星物品的概率')\n",
    "# plt.\n",
    "plt.rcParams['font.sans-serif']=['SimHei']\n",
    "plt.rcParams['axes.unicode_minus']=False\n",
    "ax2.set_xlabel('n(n<=89)', fontsize=15)\n",
    "ax2.set_ylabel('p(n)', fontsize=15)\n",
    "plt.show()"
   ]
  },
  {
   "cell_type": "code",
   "execution_count": 50,
   "metadata": {},
   "outputs": [],
   "source": [
    "fn = [1-pow((1-0.006), item) for item in number]"
   ]
  },
  {
   "cell_type": "code",
   "execution_count": 51,
   "metadata": {},
   "outputs": [],
   "source": [
    "fn[-1]=1"
   ]
  },
  {
   "cell_type": "code",
   "execution_count": 52,
   "metadata": {},
   "outputs": [
    {
     "data": {
      "text/plain": [
       "[<matplotlib.lines.Line2D at 0x27f78cfd908>]"
      ]
     },
     "execution_count": 52,
     "metadata": {},
     "output_type": "execute_result"
    },
    {
     "data": {
      "image/png": "[encoded data removed]",
      "text/plain": [
       "<Figure size 864x864 with 1 Axes>"
      ]
     },
     "metadata": {
      "needs_background": "light"
     },
     "output_type": "display_data"
    }
   ],
   "source": [
    "plt.figure(figsize=(12,12))\n",
    "ax1 = plt.subplot(111)\n",
    "ax1.set_xlabel('n(n<=90)', fontsize=20)\n",
    "ax1.set_ylabel('f(n)', fontsize=20)\n",
    "plt.xticks(fontsize=15)\n",
    "plt.yticks(fontsize=15)\n",
    "plt.plot(number,fn)"
   ]
  },
  {
   "cell_type": "code",
   "execution_count": 53,
   "metadata": {},
   "outputs": [],
   "source": [
    "exp = math.fsum([item*pn[item-1] for item in number])"
   ]
  },
  {
   "cell_type": "code",
   "execution_count": 54,
   "metadata": {},
   "outputs": [],
   "source": [
    "temp = 1*pow(1-0.006,89)+0.006*(1-pow(1-0.006,89))"
   ]
  },
  {
   "cell_type": "code",
   "execution_count": 55,
   "metadata": {},
   "outputs": [
    {
     "data": {
      "text/plain": [
       "1.121801177343519"
      ]
     },
     "execution_count": 55,
     "metadata": {},
     "output_type": "execute_result"
    }
   ],
   "source": [
    "0.006*89+temp"
   ]
  },
  {
   "cell_type": "code",
   "execution_count": 105,
   "metadata": {},
   "outputs": [],
   "source": [
    "import random\n",
    "def calculate_g():\n",
    "    result = random.randint(1,500)\n",
    "    if result<=3:\n",
    "        return True # 出了五星\n",
    "    else:\n",
    "        return False # 没出五星\n",
    "    \n",
    "def calculate_ganyu():\n",
    "    result = random.randint(0,1)\n",
    "    if result==0:\n",
    "        return True # 是甘雨\n",
    "    else:\n",
    "        return False # 是其他五星物品\n",
    "def ganyu():\n",
    "    # 计算甘雨出货时是抽第几次，根据规则，返回的必是小于等于180的数。\n",
    "    data = get_data()\n",
    "    number = 0 # 当前是第number次\n",
    "    count = 0 # 累计多少次没出五星\n",
    "    ganyu_count = 0 # 累计多少次五星没出甘雨，该值只能为0或1\n",
    "    for number in range(180):\n",
    "        # 检查路径\n",
    "        if count<=88:\n",
    "            if calculate_g():\n",
    "                count = 0\n",
    "                if ganyu_count==1:\n",
    "                    data[number] = (True, True)\n",
    "                    ganyu_count=0\n",
    "                else:\n",
    "                    if calculate_ganyu():\n",
    "                        ganyu_count=0\n",
    "                        data[number] = (True, True)\n",
    "                    else:\n",
    "                        ganyu_count=ganyu_count+1\n",
    "                        data[number] = (True, False)\n",
    "\n",
    "            else:\n",
    "                count = count+1\n",
    "        else:\n",
    "            count = 0\n",
    "            if ganyu_count==1:\n",
    "                data[number] = (True, True)\n",
    "                ganyu_count=0\n",
    "            else:\n",
    "                if calculate_ganyu():\n",
    "                    ganyu_count=0\n",
    "                    data[number] = (True, True)\n",
    "                else:\n",
    "                    ganyu_count=ganyu_count+1\n",
    "                    data[number] = (True, False)\n",
    "    return data\n",
    "        \n",
    "    \n",
    "\n",
    "def get_data():\n",
    "    return [(False, False),\n",
    "             (False, False),\n",
    "             (False, False),\n",
    "             (False, False),\n",
    "             (False, False),\n",
    "             (False, False),\n",
    "             (False, False),\n",
    "             (False, False),\n",
    "             (False, False),\n",
    "             (False, False),\n",
    "             (False, False),\n",
    "             (False, False),\n",
    "             (False, False),\n",
    "             (False, False),\n",
    "             (False, False),\n",
    "             (False, False),\n",
    "             (False, False),\n",
    "             (False, False),\n",
    "             (False, False),\n",
    "             (False, False),\n",
    "             (False, False),\n",
    "             (False, False),\n",
    "             (False, False),\n",
    "             (False, False),\n",
    "             (False, False),\n",
    "             (False, False),\n",
    "             (False, False),\n",
    "             (False, False),\n",
    "             (False, False),\n",
    "             (False, False),\n",
    "             (False, False),\n",
    "             (False, False),\n",
    "             (False, False),\n",
    "             (False, False),\n",
    "             (False, False),\n",
    "             (False, False),\n",
    "             (False, False),\n",
    "             (False, False),\n",
    "             (False, False),\n",
    "             (False, False),\n",
    "             (False, False),\n",
    "             (False, False),\n",
    "             (False, False),\n",
    "             (False, False),\n",
    "             (False, False),\n",
    "             (False, False),\n",
    "             (False, False),\n",
    "             (False, False),\n",
    "             (False, False),\n",
    "             (False, False),\n",
    "             (False, False),\n",
    "             (False, False),\n",
    "             (False, False),\n",
    "             (False, False),\n",
    "             (False, False),\n",
    "             (False, False),\n",
    "             (False, False),\n",
    "             (False, False),\n",
    "             (False, False),\n",
    "             (False, False),\n",
    "             (False, False),\n",
    "             (False, False),\n",
    "             (False, False),\n",
    "             (False, False),\n",
    "             (False, False),\n",
    "             (False, False),\n",
    "             (False, False),\n",
    "             (False, False),\n",
    "             (False, False),\n",
    "             (False, False),\n",
    "             (False, False),\n",
    "             (False, False),\n",
    "             (False, False),\n",
    "             (False, False),\n",
    "             (False, False),\n",
    "             (False, False),\n",
    "             (False, False),\n",
    "             (False, False),\n",
    "             (False, False),\n",
    "             (False, False),\n",
    "             (False, False),\n",
    "             (False, False),\n",
    "             (False, False),\n",
    "             (False, False),\n",
    "             (False, False),\n",
    "             (False, False),\n",
    "             (False, False),\n",
    "             (False, False),\n",
    "             (False, False),\n",
    "             (False, False),\n",
    "             (False, False),\n",
    "             (False, False),\n",
    "             (False, False),\n",
    "             (False, False),\n",
    "             (False, False),\n",
    "             (False, False),\n",
    "             (False, False),\n",
    "             (False, False),\n",
    "             (False, False),\n",
    "             (False, False),\n",
    "             (False, False),\n",
    "             (False, False),\n",
    "             (False, False),\n",
    "             (False, False),\n",
    "             (False, False),\n",
    "             (False, False),\n",
    "             (False, False),\n",
    "             (False, False),\n",
    "             (False, False),\n",
    "             (False, False),\n",
    "             (False, False),\n",
    "             (False, False),\n",
    "             (False, False),\n",
    "             (False, False),\n",
    "             (False, False),\n",
    "             (False, False),\n",
    "             (False, False),\n",
    "             (False, False),\n",
    "             (False, False),\n",
    "             (False, False),\n",
    "             (False, False),\n",
    "             (False, False),\n",
    "             (False, False),\n",
    "             (False, False),\n",
    "             (False, False),\n",
    "             (False, False),\n",
    "             (False, False),\n",
    "             (False, False),\n",
    "             (False, False),\n",
    "             (False, False),\n",
    "             (False, False),\n",
    "             (False, False),\n",
    "             (False, False),\n",
    "             (False, False),\n",
    "             (False, False),\n",
    "             (False, False),\n",
    "             (False, False),\n",
    "             (False, False),\n",
    "             (False, False),\n",
    "             (False, False),\n",
    "             (False, False),\n",
    "             (False, False),\n",
    "             (False, False),\n",
    "             (False, False),\n",
    "             (False, False),\n",
    "             (False, False),\n",
    "             (False, False),\n",
    "             (False, False),\n",
    "             (False, False),\n",
    "             (False, False),\n",
    "             (False, False),\n",
    "             (False, False),\n",
    "             (False, False),\n",
    "             (False, False),\n",
    "             (False, False),\n",
    "             (False, False),\n",
    "             (False, False),\n",
    "             (False, False),\n",
    "             (False, False),\n",
    "             (False, False),\n",
    "             (False, False),\n",
    "             (False, False),\n",
    "             (False, False),\n",
    "             (False, False),\n",
    "             (False, False),\n",
    "             (False, False),\n",
    "             (False, False),\n",
    "             (False, False),\n",
    "             (False, False),\n",
    "             (False, False),\n",
    "             (False, False),\n",
    "             (False, False),\n",
    "             (False, False),\n",
    "             (False, False),\n",
    "             (False, False),\n",
    "             (False, False),\n",
    "             (False, False),\n",
    "             (False, False),\n",
    "             (False, False),\n",
    "             (False, False)]"
   ]
  },
  {
   "cell_type": "code",
   "execution_count": 106,
   "metadata": {
    "scrolled": false
   },
   "outputs": [],
   "source": [
    "result=[]\n",
    "for item in range(20000):\n",
    "    result.append(ganyu())"
   ]
  },
  {
   "cell_type": "code",
   "execution_count": 107,
   "metadata": {},
   "outputs": [
    {
     "data": {
      "text/plain": [
       "20000"
      ]
     },
     "execution_count": 107,
     "metadata": {},
     "output_type": "execute_result"
    }
   ],
   "source": [
    "len(result)"
   ]
  },
  {
   "cell_type": "code",
   "execution_count": 118,
   "metadata": {},
   "outputs": [],
   "source": [
    "first_wuxing = [min(item.index((True, True)),item.index((True, False))) if (True, False) in item else item.index((True, True)) for item in result]\n",
    "first_ganyu = [item.index((True, True)) for item in result]"
   ]
  },
  {
   "cell_type": "code",
   "execution_count": 121,
   "metadata": {},
   "outputs": [],
   "source": [
    "zonghe_wuxing = 1/(math.fsum(first_wuxing)/len(first_wuxing))\n",
    "zonghe_ganyu =1/(math.fsum(first_ganyu)/len(first_ganyu))\n"
   ]
  },
  {
   "cell_type": "code",
   "execution_count": 122,
   "metadata": {},
   "outputs": [
    {
     "data": {
      "text/plain": [
       "0.014511987264279975"
      ]
     },
     "execution_count": 122,
     "metadata": {},
     "output_type": "execute_result"
    }
   ],
   "source": [
    "zonghe_wuxing # 综合五星概率"
   ]
  },
  {
   "cell_type": "code",
   "execution_count": 124,
   "metadata": {},
   "outputs": [
    {
     "data": {
      "text/plain": [
       "0.009604035231442843"
      ]
     },
     "execution_count": 124,
     "metadata": {},
     "output_type": "execute_result"
    }
   ],
   "source": [
    "zonghe_ganyu # 综合甘雨概率"
   ]
  },
  {
   "cell_type": "code",
   "execution_count": null,
   "metadata": {},
   "outputs": [],
   "source": []
  }
 ],
 "metadata": {
  "kernelspec": {
   "display_name": "Python 3",
   "language": "python",
   "name": "python3"
  },
  "language_info": {
   "codemirror_mode": {
    "name": "ipython",
    "version": 3
   },
   "file_extension": ".py",
   "mimetype": "text/x-python",
   "name": "python",
   "nbconvert_exporter": "python",
   "pygments_lexer": "ipython3",
   "version": "3.7.0"
  }
 },
 "nbformat": 4,
 "nbformat_minor": 2
}
